{
 "cells": [
  {
   "cell_type": "markdown",
   "id": "0e741506",
   "metadata": {},
   "source": [
    "activation checkpointing \n",
    "\n",
    "https://pytorch.org/docs/stable/checkpoint.html"
   ]
  },
  {
   "cell_type": "code",
   "execution_count": null,
   "id": "afa3f37b",
   "metadata": {},
   "outputs": [],
   "source": [
    "import torch\n",
    "import sklearn"
   ]
  },
  {
   "cell_type": "markdown",
   "id": "a18369ba",
   "metadata": {},
   "source": [
    "https://scikit-learn.org/stable/modules/generated/sklearn.datasets.load_digits.html#sklearn.datasets.load_digits\n"
   ]
  },
  {
   "cell_type": "code",
   "execution_count": null,
   "id": "7b67d99e",
   "metadata": {},
   "outputs": [],
   "source": [
    "x,y=sklearn.datasets.load_digits(return_X_y=True)\n",
    "x=torch.tensor(x/16).float().cuda() # FP32\n",
    "y=torch.tensor(y).long().cuda()\n",
    "print(x.shape,x.dtype)\n",
    "print(y.shape,y.dtype)"
   ]
  },
  {
   "cell_type": "code",
   "execution_count": null,
   "id": "0467e115",
   "metadata": {},
   "outputs": [],
   "source": [
    "class MLP(torch.nn.Module):\n",
    "    def __init__(self,input_size,hidden_sizes,output_size):\n",
    "        super(MLP,self).__init__()\n",
    "        self.fc_first=torch.nn.Linear(input_size, hidden_sizes[0])\n",
    "        fc_middle=[]\n",
    "        for i in range(1,len(hidden_sizes)-1):\n",
    "            fc_middle.append(torch.nn.Linear(hidden_sizes[i-1],hidden_sizes[i]))\n",
    "            fc_middle.append(torch.nn.ReLU())\n",
    "        self.fc_middle=torch.nn.Sequential(*fc_middle)\n",
    "        self.fc_final=torch.nn.Linear(hidden_sizes[-1], output_size)\n",
    "    \n",
    "    def forward(self,x,checkpoint=False):\n",
    "        out=self.fc_first(x)\n",
    "        out=torch.relu(out)\n",
    "        if checkpoint:\n",
    "            out=torch.utils.checkpoint.checkpoint(lambda x:self.fc_middle(x),out,use_reentrant=False)\n",
    "        else:\n",
    "            out=self.fc_middle(out)\n",
    "        out=self.fc_final(out)\n",
    "        return out"
   ]
  },
  {
   "cell_type": "markdown",
   "id": "63eced5d",
   "metadata": {},
   "source": [
    "checkpoint：消耗18MB"
   ]
  },
  {
   "cell_type": "code",
   "execution_count": null,
   "id": "def387db",
   "metadata": {},
   "outputs": [],
   "source": [
    "model=MLP(input_size=64,hidden_sizes=[256,128,128],output_size=10).cuda()\n",
    "loss_fn=torch.nn.CrossEntropyLoss()\n",
    "optimizer=torch.optim.SGD(model.parameters(),lr=0.01)\n",
    "\n",
    "iter=0\n",
    "while True:\n",
    "    optimizer.zero_grad()\n",
    "\n",
    "    out=model(x,checkpoint=True)\n",
    "    loss=loss_fn(out,y)\n",
    "    loss.backward()\n",
    "    optimizer.step()\n",
    "\n",
    "    iter+=1\n",
    "    if iter%100000==0:\n",
    "        print(f'iter={iter} loss={loss.item()} cuda_mem={torch.cuda.memory_allocated()}Bytes')\n",
    "    if loss.item()<=1e-3:\n",
    "        break"
   ]
  },
  {
   "cell_type": "markdown",
   "id": "c37bbeca",
   "metadata": {},
   "source": [
    "no checkpoint：消耗20MB"
   ]
  },
  {
   "cell_type": "code",
   "execution_count": null,
   "id": "4553a396",
   "metadata": {},
   "outputs": [],
   "source": [
    "model=MLP(input_size=64,hidden_sizes=[256,128,128],output_size=10).cuda()\n",
    "loss_fn=torch.nn.CrossEntropyLoss()\n",
    "optimizer=torch.optim.SGD(model.parameters(),lr=0.01)\n",
    "\n",
    "iter=0\n",
    "while True:\n",
    "    optimizer.zero_grad()\n",
    "\n",
    "    out=model(x,checkpoint=False)\n",
    "    loss=loss_fn(out,y)\n",
    "    loss.backward()\n",
    "    optimizer.step()\n",
    "\n",
    "    iter+=1\n",
    "    if iter%100000==0:\n",
    "        print(f'iter={iter} loss={loss.item()} cuda_mem={torch.cuda.memory_allocated()}Bytes')\n",
    "    if loss.item()<=1e-3:\n",
    "        break"
   ]
  }
 ],
 "metadata": {
  "kernelspec": {
   "display_name": "torch-thins",
   "language": "python",
   "name": "python3"
  },
  "language_info": {
   "codemirror_mode": {
    "name": "ipython",
    "version": 3
   },
   "file_extension": ".py",
   "mimetype": "text/x-python",
   "name": "python",
   "nbconvert_exporter": "python",
   "pygments_lexer": "ipython3",
   "version": "3.10.16"
  }
 },
 "nbformat": 4,
 "nbformat_minor": 5
}
