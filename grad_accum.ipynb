{
 "cells": [
  {
   "cell_type": "markdown",
   "id": "95d057cd",
   "metadata": {},
   "source": [
    "Gradient accumulation"
   ]
  },
  {
   "cell_type": "code",
   "execution_count": 2,
   "id": "1763e165",
   "metadata": {},
   "outputs": [],
   "source": [
    "import torch\n",
    "import sklearn"
   ]
  },
  {
   "cell_type": "markdown",
   "id": "1849b369",
   "metadata": {},
   "source": [
    "https://scikit-learn.org/stable/modules/generated/sklearn.datasets.load_digits.html#sklearn.datasets.load_digits"
   ]
  },
  {
   "cell_type": "code",
   "execution_count": 3,
   "id": "2f5bb2cb",
   "metadata": {},
   "outputs": [
    {
     "name": "stdout",
     "output_type": "stream",
     "text": [
      "torch.Size([1797, 64]) torch.float32\n",
      "torch.Size([1797]) torch.int64\n"
     ]
    }
   ],
   "source": [
    "x,y=sklearn.datasets.load_digits(return_X_y=True)\n",
    "x=torch.tensor(x/16).float().cuda() # FP32\n",
    "y=torch.tensor(y).long().cuda()\n",
    "print(x.shape,x.dtype)\n",
    "print(y.shape,y.dtype)"
   ]
  },
  {
   "cell_type": "code",
   "execution_count": 4,
   "id": "a1e552dd",
   "metadata": {},
   "outputs": [],
   "source": [
    "class MLP(torch.nn.Module):\n",
    "    def __init__(self,input_size,hidden_size,output_size):\n",
    "        super(MLP,self).__init__()\n",
    "        self.fc1=torch.nn.Linear(input_size, hidden_size)\n",
    "        self.fc2=torch.nn.Linear(hidden_size, output_size)\n",
    "\n",
    "    def forward(self,x):\n",
    "        out=self.fc1(x)\n",
    "        out=torch.relu(out)\n",
    "        out=self.fc2(out)\n",
    "        return out"
   ]
  },
  {
   "cell_type": "code",
   "execution_count": 5,
   "id": "551df208",
   "metadata": {},
   "outputs": [
    {
     "name": "stdout",
     "output_type": "stream",
     "text": [
      "iter=25000 loss=0.011231090873479843 cuda_mem=17916416Bytes\n",
      "iter=50000 loss=0.005173448007553816 cuda_mem=17916416Bytes\n",
      "iter=75000 loss=0.0030425109434872866 cuda_mem=17916416Bytes\n",
      "iter=100000 loss=0.0020461517851799726 cuda_mem=17916416Bytes\n",
      "iter=125000 loss=0.001496035954914987 cuda_mem=17916416Bytes\n",
      "iter=150000 loss=0.0011577062541618943 cuda_mem=17916416Bytes\n"
     ]
    }
   ],
   "source": [
    "model=MLP(input_size=64,hidden_size=256,output_size=10).cuda()\n",
    "loss_fn=torch.nn.CrossEntropyLoss()\n",
    "optimizer=torch.optim.SGD(model.parameters(),lr=0.01)\n",
    "\n",
    "iter=0\n",
    "accum_steps=0\n",
    "while True:\n",
    "    out=model(x)\n",
    "    loss=loss_fn(out,y)\n",
    "    loss=loss/4    \n",
    "    loss.backward()\n",
    "    accum_steps+=1\n",
    "    if accum_steps==4:\n",
    "        optimizer.step()\n",
    "        optimizer.zero_grad()\n",
    "        accum_steps=0\n",
    "        iter+=1\n",
    "        if iter%25000==0:\n",
    "            print(f'iter={iter} loss={loss.item()} cuda_mem={torch.cuda.memory_allocated()}Bytes')\n",
    "        if loss.item()<=1e-3:\n",
    "            break"
   ]
  }
 ],
 "metadata": {
  "kernelspec": {
   "display_name": "torch-thins",
   "language": "python",
   "name": "python3"
  },
  "language_info": {
   "codemirror_mode": {
    "name": "ipython",
    "version": 3
   },
   "file_extension": ".py",
   "mimetype": "text/x-python",
   "name": "python",
   "nbconvert_exporter": "python",
   "pygments_lexer": "ipython3",
   "version": "3.10.16"
  }
 },
 "nbformat": 4,
 "nbformat_minor": 5
}
