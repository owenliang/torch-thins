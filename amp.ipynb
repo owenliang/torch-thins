{
 "cells": [
  {
   "cell_type": "markdown",
   "id": "462d0505",
   "metadata": {},
   "source": [
    "AMP (Automatic Mixed Precision)\n",
    "\n",
    "https://pytorch.org/docs/stable/notes/amp_examples.html#"
   ]
  },
  {
   "cell_type": "code",
   "execution_count": null,
   "id": "e0b261a5",
   "metadata": {},
   "outputs": [],
   "source": [
    "import torch\n",
    "import sklearn"
   ]
  },
  {
   "cell_type": "markdown",
   "id": "eca3cd62",
   "metadata": {},
   "source": [
    "https://scikit-learn.org/stable/modules/generated/sklearn.datasets.load_digits.html#sklearn.datasets.load_digits"
   ]
  },
  {
   "cell_type": "code",
   "execution_count": null,
   "id": "79cc6926",
   "metadata": {},
   "outputs": [],
   "source": [
    "x,y=sklearn.datasets.load_digits(return_X_y=True)\n",
    "x=torch.tensor(x/16).float().cuda() # FP32\n",
    "y=torch.tensor(y).long().cuda()\n",
    "print(x.shape,x.dtype)\n",
    "print(y.shape,y.dtype)"
   ]
  },
  {
   "cell_type": "code",
   "execution_count": null,
   "id": "06570b90",
   "metadata": {},
   "outputs": [],
   "source": [
    "class MLP(torch.nn.Module):\n",
    "    def __init__(self,input_size,hidden_size,output_size):\n",
    "        super(MLP,self).__init__()\n",
    "        self.fc1=torch.nn.Linear(input_size, hidden_size)\n",
    "        self.fc2=torch.nn.Linear(hidden_size, output_size)\n",
    "\n",
    "    def forward(self,x):\n",
    "        out=self.fc1(x)\n",
    "        out=torch.relu(out)\n",
    "        out=self.fc2(out)\n",
    "        return out"
   ]
  },
  {
   "cell_type": "code",
   "execution_count": null,
   "id": "55534235",
   "metadata": {},
   "outputs": [],
   "source": [
    "model=MLP(input_size=64,hidden_size=256,output_size=10).cuda()\n",
    "loss_fn=torch.nn.CrossEntropyLoss()\n",
    "optimizer=torch.optim.SGD(model.parameters(),lr=0.01)\n",
    "scaler=torch.amp.GradScaler()\n",
    "\n",
    "print_once=False\n",
    "def debug_forward(module,input,output):\n",
    "    global print_once\n",
    "    if not print_once:\n",
    "        print_once=True\n",
    "        print(f'{module}\\ninput_shape={input[0].shape} input_dtype={input[0].dtype}\\noutput_shape={output.shape} output_dtype={output.dtype}\\nweight_shape={module.weight.shape} weight_dtype={module.weight.dtype}')\n",
    "    \n",
    "model.fc1.register_forward_hook(debug_forward)\n",
    "\n",
    "iter=0\n",
    "while True:\n",
    "    optimizer.zero_grad()\n",
    "    with torch.amp.autocast(device_type='cuda',dtype=torch.float16): # FP16 Mix\n",
    "        out=model(x)\n",
    "        loss=loss_fn(out,y)\n",
    "    scaler.scale(loss).backward()\n",
    "    scaler.step(optimizer)\n",
    "    scaler.update()\n",
    "    iter+=1\n",
    "    if iter%100000==0:\n",
    "        print(f'iter={iter} loss={loss.item()} cuda_mem={torch.cuda.memory_allocated()}Bytes')\n",
    "    if loss.item()<=1e-3:\n",
    "        break"
   ]
  }
 ],
 "metadata": {
  "kernelspec": {
   "display_name": "torch-thins",
   "language": "python",
   "name": "python3"
  },
  "language_info": {
   "codemirror_mode": {
    "name": "ipython",
    "version": 3
   },
   "file_extension": ".py",
   "mimetype": "text/x-python",
   "name": "python",
   "nbconvert_exporter": "python",
   "pygments_lexer": "ipython3",
   "version": "3.10.16"
  }
 },
 "nbformat": 4,
 "nbformat_minor": 5
}
